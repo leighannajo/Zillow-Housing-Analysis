{
 "cells": [
  {
   "cell_type": "code",
   "execution_count": 1,
   "metadata": {},
   "outputs": [],
   "source": [
    "import warnings\n",
    "warnings.filterwarnings('ignore')\n",
    "\n",
    "import pandas as pd\n",
    "import numpy as np\n",
    "\n",
    "import matplotlib.pyplot as plt\n",
    "\n",
    "import statsmodels.api as sm\n",
    "import itertools\n",
    "\n",
    "# plt.style.use('fivethirtyeight')\n",
    "# %matplotlib inline\n",
    "# from matplotlib.pylab import rcParams\n",
    "# rcParams['figure.figsize'] = 13, 8\n",
    "\n",
    "import plotly.express as px\n",
    "\n",
    "# import collections\n",
    "\n",
    "import functions as fun\n",
    "\n",
    "\n",
    "\n",
    "import datetime\n",
    "import seaborn as sns\n",
    "sns.set()"
   ]
  },
  {
   "cell_type": "code",
   "execution_count": 2,
   "metadata": {},
   "outputs": [],
   "source": [
    "%load_ext autoreload\n",
    "%autoreload"
   ]
  },
  {
   "cell_type": "code",
   "execution_count": 3,
   "metadata": {},
   "outputs": [],
   "source": [
    "%reload_ext autoreload"
   ]
  },
  {
   "cell_type": "markdown",
   "metadata": {},
   "source": [
    "# Step 1: Read in Data"
   ]
  },
  {
   "cell_type": "code",
   "execution_count": 9,
   "metadata": {},
   "outputs": [
    {
     "data": {
      "text/html": [
       "<div>\n",
       "<style scoped>\n",
       "    .dataframe tbody tr th:only-of-type {\n",
       "        vertical-align: middle;\n",
       "    }\n",
       "\n",
       "    .dataframe tbody tr th {\n",
       "        vertical-align: top;\n",
       "    }\n",
       "\n",
       "    .dataframe thead th {\n",
       "        text-align: right;\n",
       "    }\n",
       "</style>\n",
       "<table border=\"1\" class=\"dataframe\">\n",
       "  <thead>\n",
       "    <tr style=\"text-align: right;\">\n",
       "      <th></th>\n",
       "      <th>RegionID</th>\n",
       "      <th>RegionName</th>\n",
       "      <th>City</th>\n",
       "      <th>State</th>\n",
       "      <th>Metro</th>\n",
       "      <th>CountyName</th>\n",
       "      <th>SizeRank</th>\n",
       "      <th>1996-04</th>\n",
       "      <th>1996-05</th>\n",
       "      <th>1996-06</th>\n",
       "      <th>...</th>\n",
       "      <th>2017-07</th>\n",
       "      <th>2017-08</th>\n",
       "      <th>2017-09</th>\n",
       "      <th>2017-10</th>\n",
       "      <th>2017-11</th>\n",
       "      <th>2017-12</th>\n",
       "      <th>2018-01</th>\n",
       "      <th>2018-02</th>\n",
       "      <th>2018-03</th>\n",
       "      <th>2018-04</th>\n",
       "    </tr>\n",
       "  </thead>\n",
       "  <tbody>\n",
       "    <tr>\n",
       "      <th>0</th>\n",
       "      <td>84654</td>\n",
       "      <td>60657</td>\n",
       "      <td>Chicago</td>\n",
       "      <td>IL</td>\n",
       "      <td>Chicago</td>\n",
       "      <td>Cook</td>\n",
       "      <td>1</td>\n",
       "      <td>334200.0</td>\n",
       "      <td>335400.0</td>\n",
       "      <td>336500.0</td>\n",
       "      <td>...</td>\n",
       "      <td>1005500</td>\n",
       "      <td>1007500</td>\n",
       "      <td>1007800</td>\n",
       "      <td>1009600</td>\n",
       "      <td>1013300</td>\n",
       "      <td>1018700</td>\n",
       "      <td>1024400</td>\n",
       "      <td>1030700</td>\n",
       "      <td>1033800</td>\n",
       "      <td>1030600</td>\n",
       "    </tr>\n",
       "    <tr>\n",
       "      <th>1</th>\n",
       "      <td>90668</td>\n",
       "      <td>75070</td>\n",
       "      <td>McKinney</td>\n",
       "      <td>TX</td>\n",
       "      <td>Dallas-Fort Worth</td>\n",
       "      <td>Collin</td>\n",
       "      <td>2</td>\n",
       "      <td>235700.0</td>\n",
       "      <td>236900.0</td>\n",
       "      <td>236700.0</td>\n",
       "      <td>...</td>\n",
       "      <td>308000</td>\n",
       "      <td>310000</td>\n",
       "      <td>312500</td>\n",
       "      <td>314100</td>\n",
       "      <td>315000</td>\n",
       "      <td>316600</td>\n",
       "      <td>318100</td>\n",
       "      <td>319600</td>\n",
       "      <td>321100</td>\n",
       "      <td>321800</td>\n",
       "    </tr>\n",
       "    <tr>\n",
       "      <th>2</th>\n",
       "      <td>91982</td>\n",
       "      <td>77494</td>\n",
       "      <td>Katy</td>\n",
       "      <td>TX</td>\n",
       "      <td>Houston</td>\n",
       "      <td>Harris</td>\n",
       "      <td>3</td>\n",
       "      <td>210400.0</td>\n",
       "      <td>212200.0</td>\n",
       "      <td>212200.0</td>\n",
       "      <td>...</td>\n",
       "      <td>321000</td>\n",
       "      <td>320600</td>\n",
       "      <td>320200</td>\n",
       "      <td>320400</td>\n",
       "      <td>320800</td>\n",
       "      <td>321200</td>\n",
       "      <td>321200</td>\n",
       "      <td>323000</td>\n",
       "      <td>326900</td>\n",
       "      <td>329900</td>\n",
       "    </tr>\n",
       "    <tr>\n",
       "      <th>3</th>\n",
       "      <td>84616</td>\n",
       "      <td>60614</td>\n",
       "      <td>Chicago</td>\n",
       "      <td>IL</td>\n",
       "      <td>Chicago</td>\n",
       "      <td>Cook</td>\n",
       "      <td>4</td>\n",
       "      <td>498100.0</td>\n",
       "      <td>500900.0</td>\n",
       "      <td>503100.0</td>\n",
       "      <td>...</td>\n",
       "      <td>1289800</td>\n",
       "      <td>1287700</td>\n",
       "      <td>1287400</td>\n",
       "      <td>1291500</td>\n",
       "      <td>1296600</td>\n",
       "      <td>1299000</td>\n",
       "      <td>1302700</td>\n",
       "      <td>1306400</td>\n",
       "      <td>1308500</td>\n",
       "      <td>1307000</td>\n",
       "    </tr>\n",
       "    <tr>\n",
       "      <th>4</th>\n",
       "      <td>93144</td>\n",
       "      <td>79936</td>\n",
       "      <td>El Paso</td>\n",
       "      <td>TX</td>\n",
       "      <td>El Paso</td>\n",
       "      <td>El Paso</td>\n",
       "      <td>5</td>\n",
       "      <td>77300.0</td>\n",
       "      <td>77300.0</td>\n",
       "      <td>77300.0</td>\n",
       "      <td>...</td>\n",
       "      <td>119100</td>\n",
       "      <td>119400</td>\n",
       "      <td>120000</td>\n",
       "      <td>120300</td>\n",
       "      <td>120300</td>\n",
       "      <td>120300</td>\n",
       "      <td>120300</td>\n",
       "      <td>120500</td>\n",
       "      <td>121000</td>\n",
       "      <td>121500</td>\n",
       "    </tr>\n",
       "  </tbody>\n",
       "</table>\n",
       "<p>5 rows × 272 columns</p>\n",
       "</div>"
      ],
      "text/plain": [
       "   RegionID  RegionName      City State              Metro CountyName  \\\n",
       "0     84654       60657   Chicago    IL            Chicago       Cook   \n",
       "1     90668       75070  McKinney    TX  Dallas-Fort Worth     Collin   \n",
       "2     91982       77494      Katy    TX            Houston     Harris   \n",
       "3     84616       60614   Chicago    IL            Chicago       Cook   \n",
       "4     93144       79936   El Paso    TX            El Paso    El Paso   \n",
       "\n",
       "   SizeRank   1996-04   1996-05   1996-06  ...  2017-07  2017-08  2017-09  \\\n",
       "0         1  334200.0  335400.0  336500.0  ...  1005500  1007500  1007800   \n",
       "1         2  235700.0  236900.0  236700.0  ...   308000   310000   312500   \n",
       "2         3  210400.0  212200.0  212200.0  ...   321000   320600   320200   \n",
       "3         4  498100.0  500900.0  503100.0  ...  1289800  1287700  1287400   \n",
       "4         5   77300.0   77300.0   77300.0  ...   119100   119400   120000   \n",
       "\n",
       "   2017-10  2017-11  2017-12  2018-01  2018-02  2018-03  2018-04  \n",
       "0  1009600  1013300  1018700  1024400  1030700  1033800  1030600  \n",
       "1   314100   315000   316600   318100   319600   321100   321800  \n",
       "2   320400   320800   321200   321200   323000   326900   329900  \n",
       "3  1291500  1296600  1299000  1302700  1306400  1308500  1307000  \n",
       "4   120300   120300   120300   120300   120500   121000   121500  \n",
       "\n",
       "[5 rows x 272 columns]"
      ]
     },
     "execution_count": 9,
     "metadata": {},
     "output_type": "execute_result"
    }
   ],
   "source": [
    "z_df = pd.read_csv('zillow_data.csv')\n",
    "z_df.head()"
   ]
  },
  {
   "cell_type": "code",
   "execution_count": 10,
   "metadata": {},
   "outputs": [
    {
     "data": {
      "text/plain": [
       "(14723, 272)"
      ]
     },
     "execution_count": 10,
     "metadata": {},
     "output_type": "execute_result"
    }
   ],
   "source": [
    "z_df.shape"
   ]
  },
  {
   "cell_type": "markdown",
   "metadata": {},
   "source": [
    "The data contains the following values:\n",
    "\n",
    "- RegionId - regions id (useful for mapping with fips?)\n",
    "- RegionName - the zip code of the row\n",
    "- City - city corresponding to the zip code\n",
    "- State - state the zip code\n",
    "- Metro - if applicable - the metro area corresponding to the city/zip code\n",
    "- CountyName - county that the zip code belongs to\n",
    "- SizeRank - this is based on population density (people per square mile) of the zip code --> \n",
    "    - lower scores = higher population density/more urbanized\n",
    "    - higher scores = lower population density/less urbanized\n",
    "- dates/home value - monthly home values from April, 1996 - April, 2018\n",
    "\n",
    "It is important to have a good understanding of the data. \n",
    "We will therefore explore the various features."
   ]
  },
  {
   "cell_type": "markdown",
   "metadata": {},
   "source": [
    "### I started with a function for checking the total and percentages of missing values of each column."
   ]
  },
  {
   "cell_type": "code",
   "execution_count": 11,
   "metadata": {},
   "outputs": [
    {
     "data": {
      "text/html": [
       "<div>\n",
       "<style scoped>\n",
       "    .dataframe tbody tr th:only-of-type {\n",
       "        vertical-align: middle;\n",
       "    }\n",
       "\n",
       "    .dataframe tbody tr th {\n",
       "        vertical-align: top;\n",
       "    }\n",
       "\n",
       "    .dataframe thead th {\n",
       "        text-align: right;\n",
       "    }\n",
       "</style>\n",
       "<table border=\"1\" class=\"dataframe\">\n",
       "  <thead>\n",
       "    <tr style=\"text-align: right;\">\n",
       "      <th></th>\n",
       "      <th>Total</th>\n",
       "      <th>Percent</th>\n",
       "    </tr>\n",
       "  </thead>\n",
       "  <tbody>\n",
       "    <tr>\n",
       "      <th>Metro</th>\n",
       "      <td>1043</td>\n",
       "      <td>7.084154</td>\n",
       "    </tr>\n",
       "    <tr>\n",
       "      <th>1997-03</th>\n",
       "      <td>1039</td>\n",
       "      <td>7.056986</td>\n",
       "    </tr>\n",
       "    <tr>\n",
       "      <th>1996-07</th>\n",
       "      <td>1039</td>\n",
       "      <td>7.056986</td>\n",
       "    </tr>\n",
       "    <tr>\n",
       "      <th>1997-06</th>\n",
       "      <td>1039</td>\n",
       "      <td>7.056986</td>\n",
       "    </tr>\n",
       "    <tr>\n",
       "      <th>1997-02</th>\n",
       "      <td>1039</td>\n",
       "      <td>7.056986</td>\n",
       "    </tr>\n",
       "    <tr>\n",
       "      <th>...</th>\n",
       "      <td>...</td>\n",
       "      <td>...</td>\n",
       "    </tr>\n",
       "    <tr>\n",
       "      <th>2014-05</th>\n",
       "      <td>56</td>\n",
       "      <td>0.380357</td>\n",
       "    </tr>\n",
       "    <tr>\n",
       "      <th>2014-04</th>\n",
       "      <td>56</td>\n",
       "      <td>0.380357</td>\n",
       "    </tr>\n",
       "    <tr>\n",
       "      <th>2014-02</th>\n",
       "      <td>56</td>\n",
       "      <td>0.380357</td>\n",
       "    </tr>\n",
       "    <tr>\n",
       "      <th>2014-01</th>\n",
       "      <td>56</td>\n",
       "      <td>0.380357</td>\n",
       "    </tr>\n",
       "    <tr>\n",
       "      <th>2014-03</th>\n",
       "      <td>56</td>\n",
       "      <td>0.380357</td>\n",
       "    </tr>\n",
       "  </tbody>\n",
       "</table>\n",
       "<p>220 rows × 2 columns</p>\n",
       "</div>"
      ],
      "text/plain": [
       "         Total   Percent\n",
       "Metro     1043  7.084154\n",
       "1997-03   1039  7.056986\n",
       "1996-07   1039  7.056986\n",
       "1997-06   1039  7.056986\n",
       "1997-02   1039  7.056986\n",
       "...        ...       ...\n",
       "2014-05     56  0.380357\n",
       "2014-04     56  0.380357\n",
       "2014-02     56  0.380357\n",
       "2014-01     56  0.380357\n",
       "2014-03     56  0.380357\n",
       "\n",
       "[220 rows x 2 columns]"
      ]
     },
     "execution_count": 11,
     "metadata": {},
     "output_type": "execute_result"
    }
   ],
   "source": [
    "missing = fun.missing_data(z_df)\n",
    "missing"
   ]
  },
  {
   "cell_type": "markdown",
   "metadata": {},
   "source": [
    "#### There are random missing values spread through a lot of the months \n",
    "- until we explore further this is not helpful yet\n",
    "- until we scale to a specific location this is not helpful yet"
   ]
  },
  {
   "cell_type": "markdown",
   "metadata": {},
   "source": [
    "### Chicago -->  I decided to only focus on Chicago zip codes because there are over 14,000 zip codes.\n",
    "I believe that this is a great area for investment because:\n",
    "- it is a large city with many zip codes\n",
    "- it is highly urbanized and has potential for large growth / is constantly growing in population\n",
    "- walkability scores \n",
    "- restaurants within walking distance\n",
    "- possibility of looking into zip codes closest to public transportation\n",
    "- low carbon emissions because of high population and urbanization"
   ]
  },
  {
   "cell_type": "markdown",
   "metadata": {},
   "source": [
    "# Step 2: Data Preprocessing and Step 3: EDA and Visualization"
   ]
  },
  {
   "cell_type": "code",
   "execution_count": 12,
   "metadata": {},
   "outputs": [
    {
     "data": {
      "text/html": [
       "<div>\n",
       "<style scoped>\n",
       "    .dataframe tbody tr th:only-of-type {\n",
       "        vertical-align: middle;\n",
       "    }\n",
       "\n",
       "    .dataframe tbody tr th {\n",
       "        vertical-align: top;\n",
       "    }\n",
       "\n",
       "    .dataframe thead th {\n",
       "        text-align: right;\n",
       "    }\n",
       "</style>\n",
       "<table border=\"1\" class=\"dataframe\">\n",
       "  <thead>\n",
       "    <tr style=\"text-align: right;\">\n",
       "      <th></th>\n",
       "      <th>RegionID</th>\n",
       "      <th>RegionName</th>\n",
       "      <th>City</th>\n",
       "      <th>State</th>\n",
       "      <th>Metro</th>\n",
       "      <th>CountyName</th>\n",
       "      <th>SizeRank</th>\n",
       "      <th>1996-04</th>\n",
       "      <th>1996-05</th>\n",
       "      <th>1996-06</th>\n",
       "      <th>...</th>\n",
       "      <th>2017-07</th>\n",
       "      <th>2017-08</th>\n",
       "      <th>2017-09</th>\n",
       "      <th>2017-10</th>\n",
       "      <th>2017-11</th>\n",
       "      <th>2017-12</th>\n",
       "      <th>2018-01</th>\n",
       "      <th>2018-02</th>\n",
       "      <th>2018-03</th>\n",
       "      <th>2018-04</th>\n",
       "    </tr>\n",
       "  </thead>\n",
       "  <tbody>\n",
       "    <tr>\n",
       "      <th>0</th>\n",
       "      <td>84654</td>\n",
       "      <td>60657</td>\n",
       "      <td>Chicago</td>\n",
       "      <td>IL</td>\n",
       "      <td>Chicago</td>\n",
       "      <td>Cook</td>\n",
       "      <td>1</td>\n",
       "      <td>334200.0</td>\n",
       "      <td>335400.0</td>\n",
       "      <td>336500.0</td>\n",
       "      <td>...</td>\n",
       "      <td>1005500</td>\n",
       "      <td>1007500</td>\n",
       "      <td>1007800</td>\n",
       "      <td>1009600</td>\n",
       "      <td>1013300</td>\n",
       "      <td>1018700</td>\n",
       "      <td>1024400</td>\n",
       "      <td>1030700</td>\n",
       "      <td>1033800</td>\n",
       "      <td>1030600</td>\n",
       "    </tr>\n",
       "    <tr>\n",
       "      <th>3</th>\n",
       "      <td>84616</td>\n",
       "      <td>60614</td>\n",
       "      <td>Chicago</td>\n",
       "      <td>IL</td>\n",
       "      <td>Chicago</td>\n",
       "      <td>Cook</td>\n",
       "      <td>4</td>\n",
       "      <td>498100.0</td>\n",
       "      <td>500900.0</td>\n",
       "      <td>503100.0</td>\n",
       "      <td>...</td>\n",
       "      <td>1289800</td>\n",
       "      <td>1287700</td>\n",
       "      <td>1287400</td>\n",
       "      <td>1291500</td>\n",
       "      <td>1296600</td>\n",
       "      <td>1299000</td>\n",
       "      <td>1302700</td>\n",
       "      <td>1306400</td>\n",
       "      <td>1308500</td>\n",
       "      <td>1307000</td>\n",
       "    </tr>\n",
       "    <tr>\n",
       "      <th>7</th>\n",
       "      <td>84640</td>\n",
       "      <td>60640</td>\n",
       "      <td>Chicago</td>\n",
       "      <td>IL</td>\n",
       "      <td>Chicago</td>\n",
       "      <td>Cook</td>\n",
       "      <td>8</td>\n",
       "      <td>216500.0</td>\n",
       "      <td>216700.0</td>\n",
       "      <td>216900.0</td>\n",
       "      <td>...</td>\n",
       "      <td>798000</td>\n",
       "      <td>787100</td>\n",
       "      <td>776100</td>\n",
       "      <td>774900</td>\n",
       "      <td>777900</td>\n",
       "      <td>777900</td>\n",
       "      <td>778500</td>\n",
       "      <td>780500</td>\n",
       "      <td>782800</td>\n",
       "      <td>782800</td>\n",
       "    </tr>\n",
       "    <tr>\n",
       "      <th>16</th>\n",
       "      <td>84646</td>\n",
       "      <td>60647</td>\n",
       "      <td>Chicago</td>\n",
       "      <td>IL</td>\n",
       "      <td>Chicago</td>\n",
       "      <td>Cook</td>\n",
       "      <td>17</td>\n",
       "      <td>122700.0</td>\n",
       "      <td>122800.0</td>\n",
       "      <td>122800.0</td>\n",
       "      <td>...</td>\n",
       "      <td>459600</td>\n",
       "      <td>461400</td>\n",
       "      <td>464300</td>\n",
       "      <td>466500</td>\n",
       "      <td>467900</td>\n",
       "      <td>470600</td>\n",
       "      <td>474500</td>\n",
       "      <td>475100</td>\n",
       "      <td>472600</td>\n",
       "      <td>470200</td>\n",
       "    </tr>\n",
       "    <tr>\n",
       "      <th>19</th>\n",
       "      <td>84620</td>\n",
       "      <td>60618</td>\n",
       "      <td>Chicago</td>\n",
       "      <td>IL</td>\n",
       "      <td>Chicago</td>\n",
       "      <td>Cook</td>\n",
       "      <td>20</td>\n",
       "      <td>142600.0</td>\n",
       "      <td>143100.0</td>\n",
       "      <td>143400.0</td>\n",
       "      <td>...</td>\n",
       "      <td>462700</td>\n",
       "      <td>461200</td>\n",
       "      <td>459900</td>\n",
       "      <td>459200</td>\n",
       "      <td>458700</td>\n",
       "      <td>457900</td>\n",
       "      <td>457400</td>\n",
       "      <td>459000</td>\n",
       "      <td>462500</td>\n",
       "      <td>464300</td>\n",
       "    </tr>\n",
       "  </tbody>\n",
       "</table>\n",
       "<p>5 rows × 272 columns</p>\n",
       "</div>"
      ],
      "text/plain": [
       "    RegionID  RegionName     City State    Metro CountyName  SizeRank  \\\n",
       "0      84654       60657  Chicago    IL  Chicago       Cook         1   \n",
       "3      84616       60614  Chicago    IL  Chicago       Cook         4   \n",
       "7      84640       60640  Chicago    IL  Chicago       Cook         8   \n",
       "16     84646       60647  Chicago    IL  Chicago       Cook        17   \n",
       "19     84620       60618  Chicago    IL  Chicago       Cook        20   \n",
       "\n",
       "     1996-04   1996-05   1996-06  ...  2017-07  2017-08  2017-09  2017-10  \\\n",
       "0   334200.0  335400.0  336500.0  ...  1005500  1007500  1007800  1009600   \n",
       "3   498100.0  500900.0  503100.0  ...  1289800  1287700  1287400  1291500   \n",
       "7   216500.0  216700.0  216900.0  ...   798000   787100   776100   774900   \n",
       "16  122700.0  122800.0  122800.0  ...   459600   461400   464300   466500   \n",
       "19  142600.0  143100.0  143400.0  ...   462700   461200   459900   459200   \n",
       "\n",
       "    2017-11  2017-12  2018-01  2018-02  2018-03  2018-04  \n",
       "0   1013300  1018700  1024400  1030700  1033800  1030600  \n",
       "3   1296600  1299000  1302700  1306400  1308500  1307000  \n",
       "7    777900   777900   778500   780500   782800   782800  \n",
       "16   467900   470600   474500   475100   472600   470200  \n",
       "19   458700   457900   457400   459000   462500   464300  \n",
       "\n",
       "[5 rows x 272 columns]"
      ]
     },
     "execution_count": 12,
     "metadata": {},
     "output_type": "execute_result"
    }
   ],
   "source": [
    "# get only zip codes in Chicago\n",
    "df_chicago = z_df.loc[z_df['City']=='Chicago']\n",
    "df_chicago.head()"
   ]
  },
  {
   "cell_type": "code",
   "execution_count": 13,
   "metadata": {},
   "outputs": [],
   "source": [
    "# Let's make a back up to be safe from overriding\n",
    "df_chicago_copy = df_chicago.copy()\n",
    "# df_chicago_copy"
   ]
  },
  {
   "cell_type": "code",
   "execution_count": 14,
   "metadata": {},
   "outputs": [
    {
     "data": {
      "text/html": [
       "<div>\n",
       "<style scoped>\n",
       "    .dataframe tbody tr th:only-of-type {\n",
       "        vertical-align: middle;\n",
       "    }\n",
       "\n",
       "    .dataframe tbody tr th {\n",
       "        vertical-align: top;\n",
       "    }\n",
       "\n",
       "    .dataframe thead th {\n",
       "        text-align: right;\n",
       "    }\n",
       "</style>\n",
       "<table border=\"1\" class=\"dataframe\">\n",
       "  <thead>\n",
       "    <tr style=\"text-align: right;\">\n",
       "      <th></th>\n",
       "      <th>Total</th>\n",
       "      <th>Percent</th>\n",
       "    </tr>\n",
       "  </thead>\n",
       "  <tbody>\n",
       "    <tr>\n",
       "      <th>2006-12</th>\n",
       "      <td>1</td>\n",
       "      <td>2.439024</td>\n",
       "    </tr>\n",
       "    <tr>\n",
       "      <th>2007-02</th>\n",
       "      <td>1</td>\n",
       "      <td>2.439024</td>\n",
       "    </tr>\n",
       "    <tr>\n",
       "      <th>2000-06</th>\n",
       "      <td>1</td>\n",
       "      <td>2.439024</td>\n",
       "    </tr>\n",
       "    <tr>\n",
       "      <th>2006-11</th>\n",
       "      <td>1</td>\n",
       "      <td>2.439024</td>\n",
       "    </tr>\n",
       "    <tr>\n",
       "      <th>2006-10</th>\n",
       "      <td>1</td>\n",
       "      <td>2.439024</td>\n",
       "    </tr>\n",
       "    <tr>\n",
       "      <th>...</th>\n",
       "      <td>...</td>\n",
       "      <td>...</td>\n",
       "    </tr>\n",
       "    <tr>\n",
       "      <th>2012-01</th>\n",
       "      <td>1</td>\n",
       "      <td>2.439024</td>\n",
       "    </tr>\n",
       "    <tr>\n",
       "      <th>2012-02</th>\n",
       "      <td>1</td>\n",
       "      <td>2.439024</td>\n",
       "    </tr>\n",
       "    <tr>\n",
       "      <th>2012-03</th>\n",
       "      <td>1</td>\n",
       "      <td>2.439024</td>\n",
       "    </tr>\n",
       "    <tr>\n",
       "      <th>2012-04</th>\n",
       "      <td>1</td>\n",
       "      <td>2.439024</td>\n",
       "    </tr>\n",
       "    <tr>\n",
       "      <th>2000-08</th>\n",
       "      <td>1</td>\n",
       "      <td>2.439024</td>\n",
       "    </tr>\n",
       "  </tbody>\n",
       "</table>\n",
       "<p>207 rows × 2 columns</p>\n",
       "</div>"
      ],
      "text/plain": [
       "         Total   Percent\n",
       "2006-12      1  2.439024\n",
       "2007-02      1  2.439024\n",
       "2000-06      1  2.439024\n",
       "2006-11      1  2.439024\n",
       "2006-10      1  2.439024\n",
       "...        ...       ...\n",
       "2012-01      1  2.439024\n",
       "2012-02      1  2.439024\n",
       "2012-03      1  2.439024\n",
       "2012-04      1  2.439024\n",
       "2000-08      1  2.439024\n",
       "\n",
       "[207 rows x 2 columns]"
      ]
     },
     "execution_count": 14,
     "metadata": {},
     "output_type": "execute_result"
    }
   ],
   "source": [
    "chi_missing = fun.missing_data(df_chicago)\n",
    "chi_missing"
   ]
  },
  {
   "cell_type": "code",
   "execution_count": 15,
   "metadata": {},
   "outputs": [
    {
     "data": {
      "text/plain": [
       "1"
      ]
     },
     "execution_count": 15,
     "metadata": {},
     "output_type": "execute_result"
    }
   ],
   "source": [
    "chi_missing.Total.nunique()"
   ]
  },
  {
   "cell_type": "markdown",
   "metadata": {},
   "source": [
    "#### Looks like possibly only one row has null values."
   ]
  },
  {
   "cell_type": "code",
   "execution_count": 16,
   "metadata": {},
   "outputs": [
    {
     "data": {
      "text/html": [
       "<div>\n",
       "<style scoped>\n",
       "    .dataframe tbody tr th:only-of-type {\n",
       "        vertical-align: middle;\n",
       "    }\n",
       "\n",
       "    .dataframe tbody tr th {\n",
       "        vertical-align: top;\n",
       "    }\n",
       "\n",
       "    .dataframe thead th {\n",
       "        text-align: right;\n",
       "    }\n",
       "</style>\n",
       "<table border=\"1\" class=\"dataframe\">\n",
       "  <thead>\n",
       "    <tr style=\"text-align: right;\">\n",
       "      <th></th>\n",
       "      <th>RegionID</th>\n",
       "      <th>RegionName</th>\n",
       "      <th>City</th>\n",
       "      <th>State</th>\n",
       "      <th>Metro</th>\n",
       "      <th>CountyName</th>\n",
       "      <th>SizeRank</th>\n",
       "      <th>1996-04</th>\n",
       "      <th>1996-05</th>\n",
       "      <th>1996-06</th>\n",
       "      <th>...</th>\n",
       "      <th>2017-07</th>\n",
       "      <th>2017-08</th>\n",
       "      <th>2017-09</th>\n",
       "      <th>2017-10</th>\n",
       "      <th>2017-11</th>\n",
       "      <th>2017-12</th>\n",
       "      <th>2018-01</th>\n",
       "      <th>2018-02</th>\n",
       "      <th>2018-03</th>\n",
       "      <th>2018-04</th>\n",
       "    </tr>\n",
       "  </thead>\n",
       "  <tbody>\n",
       "    <tr>\n",
       "      <th>105</th>\n",
       "      <td>84613</td>\n",
       "      <td>60611</td>\n",
       "      <td>Chicago</td>\n",
       "      <td>IL</td>\n",
       "      <td>Chicago</td>\n",
       "      <td>Cook</td>\n",
       "      <td>106</td>\n",
       "      <td>NaN</td>\n",
       "      <td>NaN</td>\n",
       "      <td>NaN</td>\n",
       "      <td>...</td>\n",
       "      <td>1475200</td>\n",
       "      <td>1473900</td>\n",
       "      <td>1469500</td>\n",
       "      <td>1472100</td>\n",
       "      <td>1477800</td>\n",
       "      <td>1486000</td>\n",
       "      <td>1497300</td>\n",
       "      <td>1508600</td>\n",
       "      <td>1508100</td>\n",
       "      <td>1493200</td>\n",
       "    </tr>\n",
       "  </tbody>\n",
       "</table>\n",
       "<p>1 rows × 272 columns</p>\n",
       "</div>"
      ],
      "text/plain": [
       "     RegionID  RegionName     City State    Metro CountyName  SizeRank  \\\n",
       "105     84613       60611  Chicago    IL  Chicago       Cook       106   \n",
       "\n",
       "     1996-04  1996-05  1996-06  ...  2017-07  2017-08  2017-09  2017-10  \\\n",
       "105      NaN      NaN      NaN  ...  1475200  1473900  1469500  1472100   \n",
       "\n",
       "     2017-11  2017-12  2018-01  2018-02  2018-03  2018-04  \n",
       "105  1477800  1486000  1497300  1508600  1508100  1493200  \n",
       "\n",
       "[1 rows x 272 columns]"
      ]
     },
     "execution_count": 16,
     "metadata": {},
     "output_type": "execute_result"
    }
   ],
   "source": [
    "missing_val = df_chicago.isnull()\n",
    "null_row = missing_val.any(axis=1)\n",
    "rows_with_missing = df_chicago[null_row]\n",
    "rows_with_missing"
   ]
  },
  {
   "cell_type": "markdown",
   "metadata": {},
   "source": [
    "#### Discovered that the zip code 60611 is our row with missing data.\n",
    "- It looks like there are months with missing data for this zip code - possibly didn't have early on data?\n"
   ]
  },
  {
   "cell_type": "markdown",
   "metadata": {},
   "source": [
    "#### Change name of RegionName column to ZipCode to elimate confusion with RegionID column"
   ]
  },
  {
   "cell_type": "code",
   "execution_count": 17,
   "metadata": {},
   "outputs": [
    {
     "data": {
      "text/html": [
       "<div>\n",
       "<style scoped>\n",
       "    .dataframe tbody tr th:only-of-type {\n",
       "        vertical-align: middle;\n",
       "    }\n",
       "\n",
       "    .dataframe tbody tr th {\n",
       "        vertical-align: top;\n",
       "    }\n",
       "\n",
       "    .dataframe thead th {\n",
       "        text-align: right;\n",
       "    }\n",
       "</style>\n",
       "<table border=\"1\" class=\"dataframe\">\n",
       "  <thead>\n",
       "    <tr style=\"text-align: right;\">\n",
       "      <th></th>\n",
       "      <th>RegionID</th>\n",
       "      <th>ZipCode</th>\n",
       "      <th>City</th>\n",
       "      <th>State</th>\n",
       "      <th>Metro</th>\n",
       "      <th>CountyName</th>\n",
       "      <th>SizeRank</th>\n",
       "      <th>1996-04</th>\n",
       "      <th>1996-05</th>\n",
       "      <th>1996-06</th>\n",
       "      <th>...</th>\n",
       "      <th>2017-07</th>\n",
       "      <th>2017-08</th>\n",
       "      <th>2017-09</th>\n",
       "      <th>2017-10</th>\n",
       "      <th>2017-11</th>\n",
       "      <th>2017-12</th>\n",
       "      <th>2018-01</th>\n",
       "      <th>2018-02</th>\n",
       "      <th>2018-03</th>\n",
       "      <th>2018-04</th>\n",
       "    </tr>\n",
       "  </thead>\n",
       "  <tbody>\n",
       "    <tr>\n",
       "      <th>0</th>\n",
       "      <td>84654</td>\n",
       "      <td>60657</td>\n",
       "      <td>Chicago</td>\n",
       "      <td>IL</td>\n",
       "      <td>Chicago</td>\n",
       "      <td>Cook</td>\n",
       "      <td>1</td>\n",
       "      <td>334200.0</td>\n",
       "      <td>335400.0</td>\n",
       "      <td>336500.0</td>\n",
       "      <td>...</td>\n",
       "      <td>1005500</td>\n",
       "      <td>1007500</td>\n",
       "      <td>1007800</td>\n",
       "      <td>1009600</td>\n",
       "      <td>1013300</td>\n",
       "      <td>1018700</td>\n",
       "      <td>1024400</td>\n",
       "      <td>1030700</td>\n",
       "      <td>1033800</td>\n",
       "      <td>1030600</td>\n",
       "    </tr>\n",
       "    <tr>\n",
       "      <th>3</th>\n",
       "      <td>84616</td>\n",
       "      <td>60614</td>\n",
       "      <td>Chicago</td>\n",
       "      <td>IL</td>\n",
       "      <td>Chicago</td>\n",
       "      <td>Cook</td>\n",
       "      <td>4</td>\n",
       "      <td>498100.0</td>\n",
       "      <td>500900.0</td>\n",
       "      <td>503100.0</td>\n",
       "      <td>...</td>\n",
       "      <td>1289800</td>\n",
       "      <td>1287700</td>\n",
       "      <td>1287400</td>\n",
       "      <td>1291500</td>\n",
       "      <td>1296600</td>\n",
       "      <td>1299000</td>\n",
       "      <td>1302700</td>\n",
       "      <td>1306400</td>\n",
       "      <td>1308500</td>\n",
       "      <td>1307000</td>\n",
       "    </tr>\n",
       "    <tr>\n",
       "      <th>7</th>\n",
       "      <td>84640</td>\n",
       "      <td>60640</td>\n",
       "      <td>Chicago</td>\n",
       "      <td>IL</td>\n",
       "      <td>Chicago</td>\n",
       "      <td>Cook</td>\n",
       "      <td>8</td>\n",
       "      <td>216500.0</td>\n",
       "      <td>216700.0</td>\n",
       "      <td>216900.0</td>\n",
       "      <td>...</td>\n",
       "      <td>798000</td>\n",
       "      <td>787100</td>\n",
       "      <td>776100</td>\n",
       "      <td>774900</td>\n",
       "      <td>777900</td>\n",
       "      <td>777900</td>\n",
       "      <td>778500</td>\n",
       "      <td>780500</td>\n",
       "      <td>782800</td>\n",
       "      <td>782800</td>\n",
       "    </tr>\n",
       "    <tr>\n",
       "      <th>16</th>\n",
       "      <td>84646</td>\n",
       "      <td>60647</td>\n",
       "      <td>Chicago</td>\n",
       "      <td>IL</td>\n",
       "      <td>Chicago</td>\n",
       "      <td>Cook</td>\n",
       "      <td>17</td>\n",
       "      <td>122700.0</td>\n",
       "      <td>122800.0</td>\n",
       "      <td>122800.0</td>\n",
       "      <td>...</td>\n",
       "      <td>459600</td>\n",
       "      <td>461400</td>\n",
       "      <td>464300</td>\n",
       "      <td>466500</td>\n",
       "      <td>467900</td>\n",
       "      <td>470600</td>\n",
       "      <td>474500</td>\n",
       "      <td>475100</td>\n",
       "      <td>472600</td>\n",
       "      <td>470200</td>\n",
       "    </tr>\n",
       "    <tr>\n",
       "      <th>19</th>\n",
       "      <td>84620</td>\n",
       "      <td>60618</td>\n",
       "      <td>Chicago</td>\n",
       "      <td>IL</td>\n",
       "      <td>Chicago</td>\n",
       "      <td>Cook</td>\n",
       "      <td>20</td>\n",
       "      <td>142600.0</td>\n",
       "      <td>143100.0</td>\n",
       "      <td>143400.0</td>\n",
       "      <td>...</td>\n",
       "      <td>462700</td>\n",
       "      <td>461200</td>\n",
       "      <td>459900</td>\n",
       "      <td>459200</td>\n",
       "      <td>458700</td>\n",
       "      <td>457900</td>\n",
       "      <td>457400</td>\n",
       "      <td>459000</td>\n",
       "      <td>462500</td>\n",
       "      <td>464300</td>\n",
       "    </tr>\n",
       "  </tbody>\n",
       "</table>\n",
       "<p>5 rows × 272 columns</p>\n",
       "</div>"
      ],
      "text/plain": [
       "    RegionID  ZipCode     City State    Metro CountyName  SizeRank   1996-04  \\\n",
       "0      84654    60657  Chicago    IL  Chicago       Cook         1  334200.0   \n",
       "3      84616    60614  Chicago    IL  Chicago       Cook         4  498100.0   \n",
       "7      84640    60640  Chicago    IL  Chicago       Cook         8  216500.0   \n",
       "16     84646    60647  Chicago    IL  Chicago       Cook        17  122700.0   \n",
       "19     84620    60618  Chicago    IL  Chicago       Cook        20  142600.0   \n",
       "\n",
       "     1996-05   1996-06  ...  2017-07  2017-08  2017-09  2017-10  2017-11  \\\n",
       "0   335400.0  336500.0  ...  1005500  1007500  1007800  1009600  1013300   \n",
       "3   500900.0  503100.0  ...  1289800  1287700  1287400  1291500  1296600   \n",
       "7   216700.0  216900.0  ...   798000   787100   776100   774900   777900   \n",
       "16  122800.0  122800.0  ...   459600   461400   464300   466500   467900   \n",
       "19  143100.0  143400.0  ...   462700   461200   459900   459200   458700   \n",
       "\n",
       "    2017-12  2018-01  2018-02  2018-03  2018-04  \n",
       "0   1018700  1024400  1030700  1033800  1030600  \n",
       "3   1299000  1302700  1306400  1308500  1307000  \n",
       "7    777900   778500   780500   782800   782800  \n",
       "16   470600   474500   475100   472600   470200  \n",
       "19   457900   457400   459000   462500   464300  \n",
       "\n",
       "[5 rows x 272 columns]"
      ]
     },
     "execution_count": 17,
     "metadata": {},
     "output_type": "execute_result"
    }
   ],
   "source": [
    "df_chicago.rename(columns={'RegionName': 'ZipCode'}, inplace=True)\n",
    "df_chicago.head()"
   ]
  },
  {
   "cell_type": "code",
   "execution_count": 18,
   "metadata": {},
   "outputs": [
    {
     "data": {
      "text/plain": [
       "1"
      ]
     },
     "execution_count": 18,
     "metadata": {},
     "output_type": "execute_result"
    }
   ],
   "source": [
    "# make sure all zip codes are Cook County \n",
    "df_chicago['CountyName'].nunique()"
   ]
  },
  {
   "cell_type": "code",
   "execution_count": 19,
   "metadata": {},
   "outputs": [
    {
     "data": {
      "text/plain": [
       "41"
      ]
     },
     "execution_count": 19,
     "metadata": {},
     "output_type": "execute_result"
    }
   ],
   "source": [
    "df_chicago['ZipCode'].nunique()"
   ]
  },
  {
   "cell_type": "code",
   "execution_count": 20,
   "metadata": {},
   "outputs": [
    {
     "data": {
      "text/plain": [
       "(41, 272)"
      ]
     },
     "execution_count": 20,
     "metadata": {},
     "output_type": "execute_result"
    }
   ],
   "source": [
    "df_chicago.shape"
   ]
  },
  {
   "cell_type": "markdown",
   "metadata": {},
   "source": [
    "### Now we have 41 zip codes to forecast with."
   ]
  },
  {
   "cell_type": "code",
   "execution_count": 21,
   "metadata": {},
   "outputs": [
    {
     "data": {
      "image/png": "[encoded data removed]",
      "text/plain": [
       "<Figure size 936x576 with 1 Axes>"
      ]
     },
     "metadata": {
      "needs_background": "light"
     },
     "output_type": "display_data"
    }
   ],
   "source": [
    "plt.figure(figsize=(13,8))\n",
    "sns.barplot(x='ZipCode', y='2018-01', data=df_chicago, palette=\"rocket_r\")\n",
    "plt.title('Home Values by Zip Code in January, 2018')\n",
    "plt.xticks(rotation=60)\n",
    "plt.show()"
   ]
  },
  {
   "cell_type": "code",
   "execution_count": 22,
   "metadata": {},
   "outputs": [
    {
     "data": {
      "image/png": "[encoded data removed]",
      "text/plain": [
       "<Figure size 936x576 with 1 Axes>"
      ]
     },
     "metadata": {
      "needs_background": "light"
     },
     "output_type": "display_data"
    }
   ],
   "source": [
    "plt.figure(figsize=(13,8))\n",
    "sns.barplot(x='ZipCode', y='2011-01', data=df_chicago, palette=\"rocket_r\")\n",
    "plt.title('Home Values by Zip Code in January, 2011')\n",
    "plt.xticks(rotation=60)\n",
    "plt.show()"
   ]
  },
  {
   "cell_type": "code",
   "execution_count": 23,
   "metadata": {},
   "outputs": [
    {
     "data": {
      "image/png": "[encoded data removed]",
      "text/plain": [
       "<Figure size 936x576 with 1 Axes>"
      ]
     },
     "metadata": {
      "needs_background": "light"
     },
     "output_type": "display_data"
    }
   ],
   "source": [
    "plt.figure(figsize=(13,8))\n",
    "sns.barplot(x='ZipCode', y='SizeRank', data=df_chicago, palette=\"rocket_r\")\n",
    "plt.title('Size Rank of Chicago Zip Codes')\n",
    "plt.xticks(rotation=60)\n",
    "plt.show()"
   ]
  },
  {
   "cell_type": "markdown",
   "metadata": {},
   "source": [
    "#### From here I decided to use size rank to filter through and lessen the zip code amount.\n",
    "- I did not have a set amount of zip codes in mind\n",
    "- Just play with different percentages"
   ]
  },
  {
   "cell_type": "code",
   "execution_count": 24,
   "metadata": {},
   "outputs": [
    {
     "data": {
      "text/plain": [
       "40"
      ]
     },
     "execution_count": 24,
     "metadata": {},
     "output_type": "execute_result"
    }
   ],
   "source": [
    "# I am dropping the column with no data until 2013 - I reference this below!!\n",
    "df_chicago.dropna(inplace=True)\n",
    "df_chicago['ZipCode'].nunique()"
   ]
  },
  {
   "cell_type": "code",
   "execution_count": 25,
   "metadata": {},
   "outputs": [
    {
     "name": "stdout",
     "output_type": "stream",
     "text": [
      "Size Rank 50% cutoff value: 568.5\n",
      "Amount of zip codes: 20\n"
     ]
    },
    {
     "data": {
      "text/html": [
       "<div>\n",
       "<style scoped>\n",
       "    .dataframe tbody tr th:only-of-type {\n",
       "        vertical-align: middle;\n",
       "    }\n",
       "\n",
       "    .dataframe tbody tr th {\n",
       "        vertical-align: top;\n",
       "    }\n",
       "\n",
       "    .dataframe thead th {\n",
       "        text-align: right;\n",
       "    }\n",
       "</style>\n",
       "<table border=\"1\" class=\"dataframe\">\n",
       "  <thead>\n",
       "    <tr style=\"text-align: right;\">\n",
       "      <th></th>\n",
       "      <th>RegionID</th>\n",
       "      <th>ZipCode</th>\n",
       "      <th>City</th>\n",
       "      <th>State</th>\n",
       "      <th>Metro</th>\n",
       "      <th>CountyName</th>\n",
       "      <th>SizeRank</th>\n",
       "      <th>1996-04</th>\n",
       "      <th>1996-05</th>\n",
       "      <th>1996-06</th>\n",
       "      <th>...</th>\n",
       "      <th>2017-07</th>\n",
       "      <th>2017-08</th>\n",
       "      <th>2017-09</th>\n",
       "      <th>2017-10</th>\n",
       "      <th>2017-11</th>\n",
       "      <th>2017-12</th>\n",
       "      <th>2018-01</th>\n",
       "      <th>2018-02</th>\n",
       "      <th>2018-03</th>\n",
       "      <th>2018-04</th>\n",
       "    </tr>\n",
       "  </thead>\n",
       "  <tbody>\n",
       "    <tr>\n",
       "      <th>0</th>\n",
       "      <td>84654</td>\n",
       "      <td>60657</td>\n",
       "      <td>Chicago</td>\n",
       "      <td>IL</td>\n",
       "      <td>Chicago</td>\n",
       "      <td>Cook</td>\n",
       "      <td>1</td>\n",
       "      <td>334200.0</td>\n",
       "      <td>335400.0</td>\n",
       "      <td>336500.0</td>\n",
       "      <td>...</td>\n",
       "      <td>1005500</td>\n",
       "      <td>1007500</td>\n",
       "      <td>1007800</td>\n",
       "      <td>1009600</td>\n",
       "      <td>1013300</td>\n",
       "      <td>1018700</td>\n",
       "      <td>1024400</td>\n",
       "      <td>1030700</td>\n",
       "      <td>1033800</td>\n",
       "      <td>1030600</td>\n",
       "    </tr>\n",
       "    <tr>\n",
       "      <th>3</th>\n",
       "      <td>84616</td>\n",
       "      <td>60614</td>\n",
       "      <td>Chicago</td>\n",
       "      <td>IL</td>\n",
       "      <td>Chicago</td>\n",
       "      <td>Cook</td>\n",
       "      <td>4</td>\n",
       "      <td>498100.0</td>\n",
       "      <td>500900.0</td>\n",
       "      <td>503100.0</td>\n",
       "      <td>...</td>\n",
       "      <td>1289800</td>\n",
       "      <td>1287700</td>\n",
       "      <td>1287400</td>\n",
       "      <td>1291500</td>\n",
       "      <td>1296600</td>\n",
       "      <td>1299000</td>\n",
       "      <td>1302700</td>\n",
       "      <td>1306400</td>\n",
       "      <td>1308500</td>\n",
       "      <td>1307000</td>\n",
       "    </tr>\n",
       "    <tr>\n",
       "      <th>7</th>\n",
       "      <td>84640</td>\n",
       "      <td>60640</td>\n",
       "      <td>Chicago</td>\n",
       "      <td>IL</td>\n",
       "      <td>Chicago</td>\n",
       "      <td>Cook</td>\n",
       "      <td>8</td>\n",
       "      <td>216500.0</td>\n",
       "      <td>216700.0</td>\n",
       "      <td>216900.0</td>\n",
       "      <td>...</td>\n",
       "      <td>798000</td>\n",
       "      <td>787100</td>\n",
       "      <td>776100</td>\n",
       "      <td>774900</td>\n",
       "      <td>777900</td>\n",
       "      <td>777900</td>\n",
       "      <td>778500</td>\n",
       "      <td>780500</td>\n",
       "      <td>782800</td>\n",
       "      <td>782800</td>\n",
       "    </tr>\n",
       "    <tr>\n",
       "      <th>16</th>\n",
       "      <td>84646</td>\n",
       "      <td>60647</td>\n",
       "      <td>Chicago</td>\n",
       "      <td>IL</td>\n",
       "      <td>Chicago</td>\n",
       "      <td>Cook</td>\n",
       "      <td>17</td>\n",
       "      <td>122700.0</td>\n",
       "      <td>122800.0</td>\n",
       "      <td>122800.0</td>\n",
       "      <td>...</td>\n",
       "      <td>459600</td>\n",
       "      <td>461400</td>\n",
       "      <td>464300</td>\n",
       "      <td>466500</td>\n",
       "      <td>467900</td>\n",
       "      <td>470600</td>\n",
       "      <td>474500</td>\n",
       "      <td>475100</td>\n",
       "      <td>472600</td>\n",
       "      <td>470200</td>\n",
       "    </tr>\n",
       "    <tr>\n",
       "      <th>19</th>\n",
       "      <td>84620</td>\n",
       "      <td>60618</td>\n",
       "      <td>Chicago</td>\n",
       "      <td>IL</td>\n",
       "      <td>Chicago</td>\n",
       "      <td>Cook</td>\n",
       "      <td>20</td>\n",
       "      <td>142600.0</td>\n",
       "      <td>143100.0</td>\n",
       "      <td>143400.0</td>\n",
       "      <td>...</td>\n",
       "      <td>462700</td>\n",
       "      <td>461200</td>\n",
       "      <td>459900</td>\n",
       "      <td>459200</td>\n",
       "      <td>458700</td>\n",
       "      <td>457900</td>\n",
       "      <td>457400</td>\n",
       "      <td>459000</td>\n",
       "      <td>462500</td>\n",
       "      <td>464300</td>\n",
       "    </tr>\n",
       "  </tbody>\n",
       "</table>\n",
       "<p>5 rows × 272 columns</p>\n",
       "</div>"
      ],
      "text/plain": [
       "    RegionID  ZipCode     City State    Metro CountyName  SizeRank   1996-04  \\\n",
       "0      84654    60657  Chicago    IL  Chicago       Cook         1  334200.0   \n",
       "3      84616    60614  Chicago    IL  Chicago       Cook         4  498100.0   \n",
       "7      84640    60640  Chicago    IL  Chicago       Cook         8  216500.0   \n",
       "16     84646    60647  Chicago    IL  Chicago       Cook        17  122700.0   \n",
       "19     84620    60618  Chicago    IL  Chicago       Cook        20  142600.0   \n",
       "\n",
       "     1996-05   1996-06  ...  2017-07  2017-08  2017-09  2017-10  2017-11  \\\n",
       "0   335400.0  336500.0  ...  1005500  1007500  1007800  1009600  1013300   \n",
       "3   500900.0  503100.0  ...  1289800  1287700  1287400  1291500  1296600   \n",
       "7   216700.0  216900.0  ...   798000   787100   776100   774900   777900   \n",
       "16  122800.0  122800.0  ...   459600   461400   464300   466500   467900   \n",
       "19  143100.0  143400.0  ...   462700   461200   459900   459200   458700   \n",
       "\n",
       "    2017-12  2018-01  2018-02  2018-03  2018-04  \n",
       "0   1018700  1024400  1030700  1033800  1030600  \n",
       "3   1299000  1302700  1306400  1308500  1307000  \n",
       "7    777900   778500   780500   782800   782800  \n",
       "16   470600   474500   475100   472600   470200  \n",
       "19   457900   457400   459000   462500   464300  \n",
       "\n",
       "[5 rows x 272 columns]"
      ]
     },
     "execution_count": 25,
     "metadata": {},
     "output_type": "execute_result"
    }
   ],
   "source": [
    "# filter zipcodes with a size rank in the bottom 50% (low score = highly urbanized zipcodes)\n",
    "urban = df_chicago.SizeRank.quantile(q=0.50)\n",
    "print(f'Size Rank 50% cutoff value: {urban}')\n",
    "top_zips_df = df_chicago[df_chicago['SizeRank'] < urban]\n",
    "print(f'Amount of zip codes: {top_zips_df.ZipCode.nunique()}')\n",
    "top_zips_df.head()\n"
   ]
  },
  {
   "cell_type": "code",
   "execution_count": 26,
   "metadata": {},
   "outputs": [],
   "source": [
    "top_zips_df.to_csv('top_zips_with_all_columns.csv', index=False)"
   ]
  },
  {
   "cell_type": "code",
   "execution_count": 27,
   "metadata": {},
   "outputs": [],
   "source": [
    "## go back and make sure mapping dictionary is updated!!"
   ]
  },
  {
   "cell_type": "code",
   "execution_count": 28,
   "metadata": {},
   "outputs": [],
   "source": [
    "# making a dictionary of zip codes with their corresponding region id's \n",
    "# because I may need them for plotting or identification of zip code location\n",
    "# region\n",
    "region_dict = {}\n",
    "zip_list = top_zips_df.ZipCode.unique()\n",
    "for i in zip_list:\n",
    "    region = top_zips_df[top_zips_df['ZipCode']==i].RegionID.values[0]\n",
    "    region_dict[i] = region"
   ]
  },
  {
   "cell_type": "code",
   "execution_count": 29,
   "metadata": {},
   "outputs": [
    {
     "data": {
      "text/plain": [
       "84654"
      ]
     },
     "execution_count": 29,
     "metadata": {},
     "output_type": "execute_result"
    }
   ],
   "source": [
    "region_dict[60657]"
   ]
  },
  {
   "cell_type": "code",
   "execution_count": 30,
   "metadata": {},
   "outputs": [
    {
     "data": {
      "image/png": "[encoded data removed]",
      "text/plain": [
       "<Figure size 936x576 with 1 Axes>"
      ]
     },
     "metadata": {
      "needs_background": "light"
     },
     "output_type": "display_data"
    }
   ],
   "source": [
    "plt.figure(figsize=(13,8))\n",
    "sns.barplot(x='ZipCode', y='SizeRank', data=top_zips_df, palette=\"rocket_r\")\n",
    "plt.title('Size Rank of Highest Urbanized Chicago Zip Codes')\n",
    "plt.xticks(rotation=60)\n",
    "plt.show()"
   ]
  },
  {
   "cell_type": "code",
   "execution_count": 31,
   "metadata": {},
   "outputs": [
    {
     "data": {
      "image/png": "[encoded data removed]",
      "text/plain": [
       "<Figure size 936x576 with 1 Axes>"
      ]
     },
     "metadata": {
      "needs_background": "light"
     },
     "output_type": "display_data"
    }
   ],
   "source": [
    "plt.figure(figsize=(13,8))\n",
    "sns.barplot(x='ZipCode', y='2018-01', data=top_zips_df, palette=\"rocket_r\")\n",
    "plt.title('Home Values of Highest Urbanized Zip Codes in January, 2018')\n",
    "plt.xticks(rotation=60)\n",
    "plt.show()"
   ]
  },
  {
   "cell_type": "code",
   "execution_count": 32,
   "metadata": {},
   "outputs": [
    {
     "data": {
      "image/png": "[encoded data removed]",
      "text/plain": [
       "<Figure size 936x576 with 1 Axes>"
      ]
     },
     "metadata": {
      "needs_background": "light"
     },
     "output_type": "display_data"
    }
   ],
   "source": [
    "plt.figure(figsize=(13,8))\n",
    "sns.barplot(x='ZipCode', y='2011-01', data=top_zips_df, palette=\"rocket_r\")\n",
    "plt.title('Home Values of Highest Urbanized Zip Codes in January, 2011')\n",
    "plt.xticks(rotation=60)\n",
    "plt.show()"
   ]
  },
  {
   "cell_type": "code",
   "execution_count": 33,
   "metadata": {},
   "outputs": [
    {
     "data": {
      "image/png": "[encoded data removed]",
      "text/plain": [
       "<Figure size 936x576 with 1 Axes>"
      ]
     },
     "metadata": {
      "needs_background": "light"
     },
     "output_type": "display_data"
    }
   ],
   "source": [
    "plt.figure(figsize=(13,8))\n",
    "sns.barplot(x='ZipCode', y='1997-01', data=top_zips_df, palette=\"rocket_r\")\n",
    "# sns.catplot(x='ZipCode', y='1997-01',  data=top_zips_df, palette= 'rocket_r')\n",
    "plt.title('Home Values of Highest Urbanized Zip Codes in January, 1997')\n",
    "plt.xticks(rotation=60)\n",
    "plt.show()"
   ]
  },
  {
   "cell_type": "code",
   "execution_count": 34,
   "metadata": {},
   "outputs": [
    {
     "data": {
      "image/png": "[encoded data removed]",
      "text/plain": [
       "<Figure size 936x576 with 2 Axes>"
      ]
     },
     "metadata": {
      "needs_background": "light"
     },
     "output_type": "display_data"
    }
   ],
   "source": [
    "newfig = plt.figure(figsize = (13, 8))\n",
    "ax = newfig.add_subplot(121)\n",
    "ax2 = newfig.add_subplot(122)\n",
    "ax.set_title('')\n",
    "ax2.set_title('')\n",
    "sns.barplot(x='ZipCode', y='1997-01', data=top_zips_df, palette=\"rocket_r\",ax=ax,  )\n",
    "sns.barplot(x='ZipCode', y='1999-01', data=top_zips_df, palette=\"rocket_r\", ax=ax2)\n",
    "# plt.setp(ax, xticks = [])\n",
    "plt.setp(ax.get_xticklabels(), rotation=55)\n",
    "plt.setp(ax2.get_xticklabels(), rotation=55)\n",
    "# plt.xticks(rotation=50)\n",
    "plt.close(2)\n",
    "plt.close(3)"
   ]
  },
  {
   "cell_type": "code",
   "execution_count": 56,
   "metadata": {},
   "outputs": [],
   "source": [
    "year_plot = pd.DataFrame()\n",
    "year_plot['ZipCode'] = top_zips_df['ZipCode']\n",
    "year_plot['1997-01'] = top_zips_df['1997-01']\n",
    "year_plot['1999-01'] = top_zips_df['1999-01']"
   ]
  },
  {
   "cell_type": "code",
   "execution_count": 58,
   "metadata": {},
   "outputs": [
    {
     "data": {
      "text/html": [
       "<div>\n",
       "<style scoped>\n",
       "    .dataframe tbody tr th:only-of-type {\n",
       "        vertical-align: middle;\n",
       "    }\n",
       "\n",
       "    .dataframe tbody tr th {\n",
       "        vertical-align: top;\n",
       "    }\n",
       "\n",
       "    .dataframe thead th {\n",
       "        text-align: right;\n",
       "    }\n",
       "</style>\n",
       "<table border=\"1\" class=\"dataframe\">\n",
       "  <thead>\n",
       "    <tr style=\"text-align: right;\">\n",
       "      <th></th>\n",
       "      <th>1997-01</th>\n",
       "      <th>1999-01</th>\n",
       "    </tr>\n",
       "    <tr>\n",
       "      <th>ZipCode</th>\n",
       "      <th></th>\n",
       "      <th></th>\n",
       "    </tr>\n",
       "  </thead>\n",
       "  <tbody>\n",
       "    <tr>\n",
       "      <th>60657</th>\n",
       "      <td>344400.0</td>\n",
       "      <td>432600.0</td>\n",
       "    </tr>\n",
       "    <tr>\n",
       "      <th>60614</th>\n",
       "      <td>503400.0</td>\n",
       "      <td>618600.0</td>\n",
       "    </tr>\n",
       "    <tr>\n",
       "      <th>60640</th>\n",
       "      <td>219700.0</td>\n",
       "      <td>287200.0</td>\n",
       "    </tr>\n",
       "    <tr>\n",
       "      <th>60647</th>\n",
       "      <td>120300.0</td>\n",
       "      <td>145300.0</td>\n",
       "    </tr>\n",
       "    <tr>\n",
       "      <th>60618</th>\n",
       "      <td>138000.0</td>\n",
       "      <td>169000.0</td>\n",
       "    </tr>\n",
       "  </tbody>\n",
       "</table>\n",
       "</div>"
      ],
      "text/plain": [
       "          1997-01   1999-01\n",
       "ZipCode                    \n",
       "60657    344400.0  432600.0\n",
       "60614    503400.0  618600.0\n",
       "60640    219700.0  287200.0\n",
       "60647    120300.0  145300.0\n",
       "60618    138000.0  169000.0"
      ]
     },
     "execution_count": 58,
     "metadata": {},
     "output_type": "execute_result"
    }
   ],
   "source": [
    "year_plot.set_index('ZipCode', inplace=True)\n",
    "year_plot.head()"
   ]
  },
  {
   "cell_type": "code",
   "execution_count": 59,
   "metadata": {},
   "outputs": [
    {
     "data": {
      "image/png": "[encoded data removed]",
      "text/plain": [
       "<Figure size 1224x720 with 1 Axes>"
      ]
     },
     "metadata": {
      "needs_background": "light"
     },
     "output_type": "display_data"
    }
   ],
   "source": [
    "year_plot.plot(kind='bar', figsize=(17, 10), color=['lightgray', 'gray', 'black'], rot=0)                                       \n",
    "plt.title(\"\", y=1.013, fontsize=22)\n",
    "plt.xlabel(\"Zip codes\", labelpad=16)\n",
    "plt.ylabel(\"Home Value\", labelpad=16);"
   ]
  },
  {
   "cell_type": "code",
   "execution_count": 47,
   "metadata": {},
   "outputs": [
    {
     "data": {
      "image/png": "[encoded data removed]",
      "text/plain": [
       "<Figure size 936x576 with 2 Axes>"
      ]
     },
     "metadata": {
      "needs_background": "light"
     },
     "output_type": "display_data"
    }
   ],
   "source": [
    "newfig = plt.figure(figsize = (13, 8))\n",
    "ax = newfig.add_subplot(121)\n",
    "ax2 = newfig.add_subplot(122)\n",
    "ax.set_title('')\n",
    "ax2.set_title('')\n",
    "sns.barplot(x='ZipCode', y='2014-01', data=top_zips_df, palette=\"rocket_r\",ax=ax,  )\n",
    "sns.barplot(x='ZipCode', y='2018-01', data=top_zips_df, palette=\"rocket_r\", ax=ax2)\n",
    "# plt.setp(ax, xticks = [])\n",
    "plt.setp(ax.get_xticklabels(), rotation=55)\n",
    "plt.setp(ax2.get_xticklabels(), rotation=55)\n",
    "# plt.xticks(rotation=50)\n",
    "plt.close(2)\n",
    "plt.close(3)"
   ]
  },
  {
   "cell_type": "code",
   "execution_count": null,
   "metadata": {},
   "outputs": [],
   "source": [
    "top_zips_df.head()"
   ]
  },
  {
   "cell_type": "markdown",
   "metadata": {},
   "source": [
    "### I wanted to drop some unnecessary columns to plot each zip code's value change over time."
   ]
  },
  {
   "cell_type": "code",
   "execution_count": null,
   "metadata": {},
   "outputs": [],
   "source": [
    "plotting_df = top_zips_df.drop(['RegionID', 'City', 'State', 'Metro', 'CountyName', 'SizeRank'], axis=1)\n",
    "plotting_df.head()"
   ]
  },
  {
   "cell_type": "code",
   "execution_count": null,
   "metadata": {},
   "outputs": [],
   "source": [
    "## Reset index \n",
    "plot_df = plotting_df.reset_index(drop=True)\n",
    "plot_df.head()"
   ]
  },
  {
   "cell_type": "code",
   "execution_count": null,
   "metadata": {},
   "outputs": [],
   "source": [
    "## change zipcodes to string\n",
    "plot_df[\"ZipCode\"] = plot_df[\"ZipCode\"].astype(str)"
   ]
  },
  {
   "cell_type": "code",
   "execution_count": null,
   "metadata": {},
   "outputs": [],
   "source": [
    "## transpose dates to rows\n",
    "plot_df = plot_df.transpose()\n",
    "plot_df.head()"
   ]
  },
  {
   "cell_type": "code",
   "execution_count": null,
   "metadata": {},
   "outputs": [],
   "source": [
    "## Renaming columns\n",
    "header = plot_df.iloc[0] ## grab first row for the column names\n",
    "plot_df = plot_df[1:] ## take all data after first row\n",
    "plot_df.columns = header ## reassign all columns to zipcodes\n",
    "plot_df.head()"
   ]
  },
  {
   "cell_type": "code",
   "execution_count": null,
   "metadata": {},
   "outputs": [],
   "source": [
    "# fun.plot(plot_df)\n",
    "plot_df.plot(figsize=(13, 8))\n",
    "plt.title('Most Urbanized Zip Codes across 1996-2018 by Home Value')\n",
    "plt.legend(bbox_to_anchor=(1.04,1), loc=\"upper left\", ncol=2)\n",
    "plt.xlabel('Dates')\n",
    "plt.ylabel('Home Value')\n",
    "plt.show()"
   ]
  },
  {
   "cell_type": "markdown",
   "metadata": {},
   "source": [
    "### From the plot above - It is clear that the 2008 economic crash had a large impact on values in Chicago \n",
    "- I decided to discard of all dates prior to 2011 where it starts to even out"
   ]
  },
  {
   "cell_type": "code",
   "execution_count": null,
   "metadata": {
    "scrolled": true
   },
   "outputs": [],
   "source": [
    "plot_df = plot_df.loc[plot_df.index >= '2011-01']\n",
    "plot_df.head()"
   ]
  },
  {
   "cell_type": "code",
   "execution_count": null,
   "metadata": {},
   "outputs": [],
   "source": [
    "# # fun.plot(plot_df)\n",
    "plot_df.plot(figsize=(13, 8))\n",
    "plt.title('Most Urbanized Zip Codes across 2011-2018 by Home Value')\n",
    "plt.legend(bbox_to_anchor=(1.04,1), loc=\"upper left\", ncol=2)\n",
    "plt.xlabel('Dates')\n",
    "plt.ylabel('Home Value')\n",
    "plt.show()"
   ]
  },
  {
   "cell_type": "code",
   "execution_count": null,
   "metadata": {},
   "outputs": [],
   "source": [
    "plot_df.head()"
   ]
  },
  {
   "cell_type": "markdown",
   "metadata": {},
   "source": [
    "### OK!  Looks good - these are the zip codes and years we will model with."
   ]
  },
  {
   "cell_type": "code",
   "execution_count": null,
   "metadata": {},
   "outputs": [],
   "source": [
    "# save our filtered dataframe for future use and to prevent overriding\n",
    "# NO INDEX with function ran !!\n",
    "fun.get_index_ready(plot_df)\n",
    "\n",
    "plot_df.to_csv('plot_df.csv', index=False)"
   ]
  },
  {
   "cell_type": "markdown",
   "metadata": {},
   "source": [
    "# Step 4: Reshape from Wide to Long Format"
   ]
  },
  {
   "cell_type": "code",
   "execution_count": 5,
   "metadata": {},
   "outputs": [
    {
     "ename": "NameError",
     "evalue": "name 'top_zips_df' is not defined",
     "output_type": "error",
     "traceback": [
      "\u001b[0;31m---------------------------------------------------------------------------\u001b[0m",
      "\u001b[0;31mNameError\u001b[0m                                 Traceback (most recent call last)",
      "\u001b[0;32m<ipython-input-5-8f8e0240a772>\u001b[0m in \u001b[0;36m<module>\u001b[0;34m\u001b[0m\n\u001b[0;32m----> 1\u001b[0;31m \u001b[0mtop_zips_df\u001b[0m\u001b[0;34m.\u001b[0m\u001b[0mhead\u001b[0m\u001b[0;34m(\u001b[0m\u001b[0;34m)\u001b[0m\u001b[0;34m\u001b[0m\u001b[0;34m\u001b[0m\u001b[0m\n\u001b[0m",
      "\u001b[0;31mNameError\u001b[0m: name 'top_zips_df' is not defined"
     ]
    }
   ],
   "source": [
    "top_zips_df.head()"
   ]
  },
  {
   "cell_type": "code",
   "execution_count": null,
   "metadata": {},
   "outputs": [],
   "source": [
    "for col in top_zips_df.columns:\n",
    "    if col < '2011-01':\n",
    "        top_zips_df.drop([col], inplace=True, axis=1)\n",
    "\n",
    "top_zips_df.head()"
   ]
  },
  {
   "cell_type": "code",
   "execution_count": null,
   "metadata": {},
   "outputs": [],
   "source": [
    "def melt_data(df): # from flatiron starter notebook\n",
    "    melted = pd.melt(df, id_vars=['RegionID','ZipCode', 'City', 'State', 'Metro', 'CountyName','SizeRank'], var_name='Time', value_name='Value')\n",
    "    melted['Time'] = pd.to_datetime(melted['Time'], format='%Y-%m')\n",
    "    melted = melted.dropna(subset=['Value'])\n",
    "    return melted"
   ]
  },
  {
   "cell_type": "code",
   "execution_count": null,
   "metadata": {},
   "outputs": [],
   "source": [
    "df = melt_data(top_zips_df)\n",
    "df.head()"
   ]
  },
  {
   "cell_type": "code",
   "execution_count": null,
   "metadata": {},
   "outputs": [],
   "source": [
    "df.drop(['RegionID', 'City', 'State', 'Metro', \n",
    "                     'CountyName', 'SizeRank'], inplace=True, axis=1)\n",
    "# df.head()\n"
   ]
  },
  {
   "cell_type": "code",
   "execution_count": null,
   "metadata": {},
   "outputs": [],
   "source": [
    "df.head()"
   ]
  },
  {
   "cell_type": "code",
   "execution_count": null,
   "metadata": {},
   "outputs": [],
   "source": [
    "# no index\n",
    "# df.to_csv('chicago_melted.csv', index=False)"
   ]
  },
  {
   "cell_type": "code",
   "execution_count": null,
   "metadata": {},
   "outputs": [],
   "source": [
    "# df.set_index('Time', inplace = True)\n",
    "# df.head()"
   ]
  },
  {
   "cell_type": "code",
   "execution_count": null,
   "metadata": {},
   "outputs": [],
   "source": [
    "y = pd.DataFrame(df.groupby('Time')['Value'].mean())\n",
    "y.head()"
   ]
  },
  {
   "cell_type": "code",
   "execution_count": null,
   "metadata": {},
   "outputs": [],
   "source": [
    "# all of chicago with mean values - no zip\n",
    "y.plot(figsize=(13, 8))\n",
    "plt.xlabel(\"Year\", fontsize=16)\n",
    "plt.ylabel(\"Home Value\", fontsize=16)\n",
    "plt.title(\"Mean Home Value for Top Urbanized Chicago Zipcodes\", fontsize=20)\n",
    "plt.show()"
   ]
  },
  {
   "cell_type": "markdown",
   "metadata": {},
   "source": [
    "# ROI Evaluations:"
   ]
  },
  {
   "cell_type": "code",
   "execution_count": null,
   "metadata": {},
   "outputs": [],
   "source": [
    "plotting_df.head()"
   ]
  },
  {
   "cell_type": "code",
   "execution_count": null,
   "metadata": {},
   "outputs": [],
   "source": [
    "roi_df = plotting_df.copy()\n",
    "roi_df.head()"
   ]
  },
  {
   "cell_type": "markdown",
   "metadata": {},
   "source": [
    "### I want to first take the average of every year so as not to lose any valuable information."
   ]
  },
  {
   "cell_type": "code",
   "execution_count": null,
   "metadata": {},
   "outputs": [],
   "source": [
    "year_list = ['1996', '1997','1998', '1999','2000', '2001','2002',\n",
    "             '2003','2004','2005','2006','2007','2008','2009',\n",
    "             '2010','2011', '2012', '2013', '2014', '2015', \n",
    "             '2016', '2017', '2018']"
   ]
  },
  {
   "cell_type": "code",
   "execution_count": null,
   "metadata": {},
   "outputs": [],
   "source": [
    "%reload_ext autoreload"
   ]
  },
  {
   "cell_type": "code",
   "execution_count": null,
   "metadata": {},
   "outputs": [],
   "source": [
    "for year in year_list:\n",
    "    fun.get_mean_year(roi_df, year)"
   ]
  },
  {
   "cell_type": "code",
   "execution_count": null,
   "metadata": {},
   "outputs": [],
   "source": [
    "roi_df.head()"
   ]
  },
  {
   "cell_type": "markdown",
   "metadata": {},
   "source": [
    "### Toss all individual months since I now have the average home value for each year"
   ]
  },
  {
   "cell_type": "code",
   "execution_count": null,
   "metadata": {},
   "outputs": [],
   "source": [
    "for col in roi_df:\n",
    "    if '-' in col:\n",
    "        roi_df.drop([col], inplace=True, axis=1)\n",
    "roi_df.head()"
   ]
  },
  {
   "cell_type": "code",
   "execution_count": null,
   "metadata": {},
   "outputs": [],
   "source": [
    "# flipping it for our plot function\n",
    "plot_roi = roi_df.transpose()\n",
    "\n",
    "new_header = plot_roi.iloc[0] \n",
    "plot_roi = plot_roi[1:] \n",
    "plot_roi.columns = new_header "
   ]
  },
  {
   "cell_type": "markdown",
   "metadata": {},
   "source": [
    "### Below is full range of dates - I just wanted to confirm that the 2008 economic crash looked the same with the averages for the years and it does."
   ]
  },
  {
   "cell_type": "code",
   "execution_count": null,
   "metadata": {},
   "outputs": [],
   "source": [
    "# average value for each year \n",
    "fun.plot(plot_roi)"
   ]
  },
  {
   "cell_type": "markdown",
   "metadata": {},
   "source": [
    "#### again eliminating all years before 2011 to account for 2008 crash"
   ]
  },
  {
   "cell_type": "code",
   "execution_count": null,
   "metadata": {},
   "outputs": [],
   "source": [
    "roi_clean = roi_df.copy()\n",
    "\n",
    "for col in roi_df.columns:\n",
    "    if col < '2011':\n",
    "        roi_df.drop([col], inplace=True, axis=1)\n",
    "\n",
    "roi_df.head()"
   ]
  },
  {
   "cell_type": "code",
   "execution_count": null,
   "metadata": {},
   "outputs": [],
   "source": [
    "roi_df['2012-01'] = fun.get_return_rate('2011', '2012', roi_df)\n",
    "roi_df['2013-01'] = fun.get_return_rate('2012', '2013', roi_df)\n",
    "roi_df['2014-01'] = fun.get_return_rate('2013', '2014', roi_df) \n",
    "roi_df['2015-01'] = fun.get_return_rate('2014', '2015', roi_df)\n",
    "roi_df['2016-01'] = fun.get_return_rate('2015', '2016', roi_df) \n",
    "roi_df['2017-01'] = fun.get_return_rate('2016', '2017', roi_df) \n",
    "roi_df['2018-01'] = fun.get_return_rate('2017', '2018', roi_df) \n",
    "roi_df.drop(['2011', '2012', '2013', '2014', '2015', '2016', '2017',\n",
    "       '2018'], inplace=True, axis=1)\n",
    "roi_df.head()"
   ]
  },
  {
   "cell_type": "code",
   "execution_count": null,
   "metadata": {},
   "outputs": [],
   "source": [
    "mean_roi = roi_df.copy()"
   ]
  },
  {
   "cell_type": "code",
   "execution_count": null,
   "metadata": {},
   "outputs": [],
   "source": [
    "roi_df.columns"
   ]
  },
  {
   "cell_type": "code",
   "execution_count": null,
   "metadata": {},
   "outputs": [],
   "source": [
    "roi_df.ZipCode.nunique()"
   ]
  },
  {
   "cell_type": "code",
   "execution_count": null,
   "metadata": {},
   "outputs": [],
   "source": [
    "date_roi = roi_df.groupby('ZipCode').mean()\n",
    "date_roi.head()"
   ]
  },
  {
   "cell_type": "code",
   "execution_count": null,
   "metadata": {},
   "outputs": [],
   "source": [
    "zip_roi = date_roi.transpose()\n",
    "zip_roi"
   ]
  },
  {
   "cell_type": "code",
   "execution_count": null,
   "metadata": {},
   "outputs": [],
   "source": [
    "zip_roi.plot(figsize=(13, 8))\n",
    "plt.xlabel('Years', fontsize=16)\n",
    "plt.ylabel('Percent ROI',  fontsize=16)\n",
    "plt.legend(bbox_to_anchor=(1, 1), loc=\"upper left\", ncol=2)\n",
    "plt.title('Yearly ROI for Selected Highly Urbanized Chicago Zip Codes',  fontsize=20)\n",
    "plt.show()"
   ]
  },
  {
   "cell_type": "markdown",
   "metadata": {},
   "source": [
    "### Let's filter out only the zip codes with an ROI percentage over 3% in 2018."
   ]
  },
  {
   "cell_type": "code",
   "execution_count": null,
   "metadata": {},
   "outputs": [],
   "source": [
    "date_roi['2018-01'].unique()"
   ]
  },
  {
   "cell_type": "code",
   "execution_count": null,
   "metadata": {},
   "outputs": [],
   "source": [
    "# filter zipcodes ROI over 3% in 2018\n",
    "\n",
    "top_percent = date_roi['2018-01'].quantile(q=0.75)\n",
    "print(f'2018 ROI 75% cutoff value: {top_percent}')\n",
    "top_roi = date_roi[date_roi['2018-01'] > top_percent]\n",
    "print(f'Amount of zip codes: {top_roi.index.nunique()}')\n",
    "top_roi.head()\n"
   ]
  },
  {
   "cell_type": "code",
   "execution_count": null,
   "metadata": {},
   "outputs": [],
   "source": [
    "top_roi.index"
   ]
  },
  {
   "cell_type": "code",
   "execution_count": null,
   "metadata": {},
   "outputs": [],
   "source": [
    "top_roi_plot = top_roi.transpose()\n",
    "top_roi_plot"
   ]
  },
  {
   "cell_type": "code",
   "execution_count": null,
   "metadata": {},
   "outputs": [],
   "source": [
    "top_roi_plot.plot(figsize=(13, 8))\n",
    "plt.xlabel('Years', fontsize=16)\n",
    "plt.ylabel('Percent ROI',  fontsize=16)\n",
    "plt.legend(bbox_to_anchor=(1, 1), loc=\"best\", ncol=2)\n",
    "plt.title('Yearly ROI for Zip Codes with Highest ROI% in 2018',  fontsize=20)\n",
    "plt.show()"
   ]
  },
  {
   "cell_type": "code",
   "execution_count": null,
   "metadata": {},
   "outputs": [],
   "source": [
    "date_roi.head()"
   ]
  },
  {
   "cell_type": "code",
   "execution_count": null,
   "metadata": {},
   "outputs": [],
   "source": [
    "# TOP Chicago Zip Codes by % ROI in 2018\n",
    "\n",
    "plt.figure(figsize = (13,8))\n",
    "plt.bar(top_roi.index, top_roi['2018-01'], color='purple')\n",
    "plt.title('Chicago Zip Codes Over 3 % ROI in 2018')\n",
    "plt.xlabel('Zip Code')\n",
    "plt.xticks(rotation=30)\n",
    "plt.ylabel('% ROI')\n",
    "plt.show()"
   ]
  },
  {
   "cell_type": "code",
   "execution_count": null,
   "metadata": {},
   "outputs": [],
   "source": [
    "import cufflinks as cf\n",
    "cf.go_offline()\n",
    "top_roi_plot.iplot(title=\"ROI of Chicago Homes 2011-2018\",\n",
    "                    xTitle=\"Year\",\n",
    "                    yTitle=\"Percent ROI\",\n",
    "                   shape=(13,8),\n",
    "                    subplot_titles=True,\n",
    "                    fill=True,)"
   ]
  },
  {
   "cell_type": "code",
   "execution_count": null,
   "metadata": {},
   "outputs": [],
   "source": [
    "# roi_clean.head()\n",
    "for col in roi_clean.columns:\n",
    "    if col < '2011':\n",
    "        roi_clean.drop([col], inplace=True, axis=1)\n",
    "\n",
    "roi_clean.head()"
   ]
  },
  {
   "cell_type": "code",
   "execution_count": null,
   "metadata": {},
   "outputs": [],
   "source": [
    "# roi_clean = roi_clean.set_index('ZipCode')\n",
    "\n",
    "roi_clean = roi_clean.transpose()\n",
    "roi_clean.head()"
   ]
  },
  {
   "cell_type": "code",
   "execution_count": null,
   "metadata": {},
   "outputs": [],
   "source": [
    "# roi_clean = roi_clean.loc([roi_clean['ZipCode']==60613] |\n",
    "#                           [roi_clean['ZipCode']==60622] |\n",
    "#                           [roi_clean['ZipCode']==60629] |\n",
    "#                           [roi_clean['ZipCode']==60634] |\n",
    "#                           [roi_clean['ZipCode']==60641])\n",
    "\n",
    "\n",
    "top_roi_list = [60613, 60622, 60629, 60634, 60641]\n",
    "\n",
    "for col in roi_clean:\n",
    "    if col not in top_roi_list:\n",
    "        roi_clean.drop([col], inplace=True, axis=1)\n",
    "        \n",
    "    \n",
    "roi_clean.head()"
   ]
  },
  {
   "cell_type": "code",
   "execution_count": null,
   "metadata": {},
   "outputs": [],
   "source": [
    "roi_clean.iplot(title=\"Value of Chicago Homes 2011-2018\",\n",
    "                    xTitle=\"Year\",\n",
    "                    yTitle=\"Home Values\",\n",
    "                   shape=(13,8),\n",
    "#                     subplot_titles=True,\n",
    "                    fill=True,)"
   ]
  },
  {
   "cell_type": "markdown",
   "metadata": {},
   "source": [
    "#### This below is to check our model against actual top 5 - if needed."
   ]
  },
  {
   "cell_type": "code",
   "execution_count": null,
   "metadata": {},
   "outputs": [],
   "source": [
    "top_2018 = top_zips_df.groupby('ZipCode')['2018-01'].mean().sort_values(ascending=False)\n",
    "top_2018.head()"
   ]
  },
  {
   "cell_type": "markdown",
   "metadata": {},
   "source": [
    "# DON'T TOUCH THIS GRAPH - "
   ]
  },
  {
   "cell_type": "code",
   "execution_count": null,
   "metadata": {},
   "outputs": [],
   "source": [
    "# # fun.plot(plot_df)\n",
    "# plot_df.plot(figsize=(13, 8))\n",
    "# plt.title('Home Values for Highest Urbanized Zip Codes 2011-2018')\n",
    "# plt.xlabel('Years')\n",
    "# plt.ylabel('Home Value')\n",
    "# plt.show()"
   ]
  },
  {
   "cell_type": "markdown",
   "metadata": {},
   "source": [
    "### Note on graph above!\n",
    "- We notice a zip code here that does not have values before 2013 - \n",
    "- I decided here to discard of this zip code as well\n",
    "- It was zip code 60611\n",
    "- I then went back and re-filtered my urbanized zip codes to get back to 20\n"
   ]
  },
  {
   "cell_type": "code",
   "execution_count": null,
   "metadata": {},
   "outputs": [],
   "source": []
  },
  {
   "cell_type": "markdown",
   "metadata": {},
   "source": [
    "# Future Work:\n",
    "- Mapping ROI or average home values for all states and picking a few for future work\n"
   ]
  },
  {
   "cell_type": "code",
   "execution_count": null,
   "metadata": {},
   "outputs": [],
   "source": [
    "z_df = pd.read_csv('zillow_data.csv')\n",
    "z_df.head()"
   ]
  },
  {
   "cell_type": "code",
   "execution_count": null,
   "metadata": {},
   "outputs": [],
   "source": [
    "z_df.drop(['RegionID', 'SizeRank'], inplace=True, axis=1)\n",
    "z_df.rename({'RegionName': 'ZipCode'}, inplace=True, axis=1)\n",
    "z_df.head()"
   ]
  },
  {
   "cell_type": "code",
   "execution_count": null,
   "metadata": {},
   "outputs": [],
   "source": [
    "year_list = ['1996', '1997','1998', '1999','2000', '2001','2002',\n",
    "             '2003','2004','2005','2006','2007','2008','2009',\n",
    "             '2010','2011', '2012', '2013', '2014', '2015', \n",
    "             '2016', '2017', '2018']"
   ]
  },
  {
   "cell_type": "code",
   "execution_count": null,
   "metadata": {},
   "outputs": [],
   "source": [
    "for year in year_list:\n",
    "    fun.get_mean_year(z_df, year)\n",
    "z_df.head()"
   ]
  },
  {
   "cell_type": "code",
   "execution_count": null,
   "metadata": {},
   "outputs": [],
   "source": [
    "for col in z_df:\n",
    "    if '-' in col:\n",
    "        z_df.drop([col], inplace=True, axis=1)\n",
    "z_df.head()"
   ]
  },
  {
   "cell_type": "code",
   "execution_count": null,
   "metadata": {},
   "outputs": [],
   "source": [
    "z_df['2012-01'] = fun.get_return_rate('2011', '2012', z_df)\n",
    "z_df['2013-01'] = fun.get_return_rate('2012', '2013', z_df)\n",
    "z_df['2014-01'] = fun.get_return_rate('2013', '2014', z_df) \n",
    "z_df['2015-01'] = fun.get_return_rate('2014', '2015', z_df)\n",
    "z_df['2016-01'] = fun.get_return_rate('2015', '2016', z_df) \n",
    "z_df['2017-01'] = fun.get_return_rate('2016', '2017', z_df) \n",
    "z_df['2018-01'] = fun.get_return_rate('2017', '2018', z_df) \n",
    "z_df.drop(['2011', '2012', '2013', '2014', '2015', '2016', '2017',\n",
    "       '2018'], inplace=True, axis=1)\n",
    "z_df.head()"
   ]
  },
  {
   "cell_type": "code",
   "execution_count": null,
   "metadata": {},
   "outputs": [],
   "source": [
    "z_df.drop(['1996', '1997', '1998', '1999', '2000', '2001', '2002',\n",
    "       '2003', '2004', '2005', '2006', '2007', '2008', '2009', '2010'], inplace=True, axis=1)\n",
    "z_df.head()"
   ]
  },
  {
   "cell_type": "code",
   "execution_count": null,
   "metadata": {},
   "outputs": [],
   "source": [
    "# map_df = pd.DataFrame()\n",
    "# map_df['State'] = z_df['State']\n",
    "# map_df['2018-04'] = z_df['2018-04']\n",
    "# map_df['2017-04'] = z_df['2017-04']\n",
    "# map_df.head()"
   ]
  },
  {
   "cell_type": "code",
   "execution_count": null,
   "metadata": {},
   "outputs": [],
   "source": [
    "map_df['2018-04-01'] = fun.get_return_rate('2017-04', '2018-04', map_df)\n",
    "map_df.head()"
   ]
  },
  {
   "cell_type": "code",
   "execution_count": null,
   "metadata": {},
   "outputs": [],
   "source": [
    "states = map_df.groupby('State').mean()\n",
    "states.head()"
   ]
  },
  {
   "cell_type": "code",
   "execution_count": null,
   "metadata": {},
   "outputs": [],
   "source": [
    "states.reset_index(inplace=True)\n",
    "states.head()"
   ]
  },
  {
   "cell_type": "code",
   "execution_count": null,
   "metadata": {},
   "outputs": [],
   "source": [
    "states.sort_values('2018-04-01', ascending=False).head()"
   ]
  },
  {
   "cell_type": "code",
   "execution_count": null,
   "metadata": {},
   "outputs": [],
   "source": [
    "fig = px.choropleth(states, locations='State', locationmode='USA-states',\n",
    "                    color='2018-04-01', scope='usa', color_continuous_scale='Purples', \n",
    "            title='Percent Yearly Average ROI by State')\n",
    "fig.show()"
   ]
  },
  {
   "cell_type": "code",
   "execution_count": null,
   "metadata": {},
   "outputs": [],
   "source": []
  },
  {
   "cell_type": "code",
   "execution_count": null,
   "metadata": {},
   "outputs": [],
   "source": []
  }
 ],
 "metadata": {
  "kernelspec": {
   "display_name": "Python [conda env:learn-env] *",
   "language": "python",
   "name": "conda-env-learn-env-py"
  },
  "language_info": {
   "codemirror_mode": {
    "name": "ipython",
    "version": 3
   },
   "file_extension": ".py",
   "mimetype": "text/x-python",
   "name": "python",
   "nbconvert_exporter": "python",
   "pygments_lexer": "ipython3",
   "version": "3.6.9"
  },
  "toc": {
   "base_numbering": 1,
   "nav_menu": {},
   "number_sections": true,
   "sideBar": true,
   "skip_h1_title": false,
   "title_cell": "Table of Contents",
   "title_sidebar": "Contents",
   "toc_cell": false,
   "toc_position": {},
   "toc_section_display": true,
   "toc_window_display": true
  },
  "varInspector": {
   "cols": {
    "lenName": 16,
    "lenType": 16,
    "lenVar": 40
   },
   "kernels_config": {
    "python": {
     "delete_cmd_postfix": "",
     "delete_cmd_prefix": "del ",
     "library": "var_list.py",
     "varRefreshCmd": "print(var_dic_list())"
    },
    "r": {
     "delete_cmd_postfix": ") ",
     "delete_cmd_prefix": "rm(",
     "library": "var_list.r",
     "varRefreshCmd": "cat(var_dic_list()) "
    }
   },
   "types_to_exclude": [
    "module",
    "function",
    "builtin_function_or_method",
    "instance",
    "_Feature"
   ],
   "window_display": false
  }
 },
 "nbformat": 4,
 "nbformat_minor": 2
}
